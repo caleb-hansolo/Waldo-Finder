{
 "cells": [
  {
   "cell_type": "code",
   "execution_count": null,
   "id": "61cbbd75-e726-4c5e-b382-f84f835f0990",
   "metadata": {},
   "outputs": [],
   "source": [
    "import sys\n",
    "import sys\n",
    "import os\n",
    "# makes it so that tensorflow doesn't print warnings on startup\n",
    "os.environ['TF_CPP_MIN_LOG_LEVEL'] = '2'  # 0 = all logs, 1 = filter INFO, 2 = filter WARNING, 3 = only errors\n",
    "import tensorflow as tf"
   ]
  },
  {
   "cell_type": "code",
   "execution_count": null,
   "id": "31d4195c-2ed9-4960-9115-5b8be63c5264",
   "metadata": {},
   "outputs": [],
   "source": [
    "# If having trouble with pyenv and python versions, ensure that this print statement says 3.11.9\n",
    "print(\"Python version: \" + sys.version)\n",
    "print(\"Tensorflow version: \" + tf.__version__)"
   ]
  },
  {
   "cell_type": "code",
   "execution_count": null,
   "id": "7635d505-35f6-40d0-9925-b73422114211",
   "metadata": {},
   "outputs": [],
   "source": []
  }
 ],
 "metadata": {
  "kernelspec": {
   "display_name": "waldo-finder-venv",
   "language": "python",
   "name": "waldo-finder-venv"
  },
  "language_info": {
   "codemirror_mode": {
    "name": "ipython",
    "version": 3
   },
   "file_extension": ".py",
   "mimetype": "text/x-python",
   "name": "python",
   "nbconvert_exporter": "python",
   "pygments_lexer": "ipython3",
   "version": "3.11.9"
  }
 },
 "nbformat": 4,
 "nbformat_minor": 5
}
